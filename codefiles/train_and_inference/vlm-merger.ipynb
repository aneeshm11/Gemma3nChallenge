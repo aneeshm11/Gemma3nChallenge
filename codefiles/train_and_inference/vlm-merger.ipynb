{
 "cells": [
  {
   "cell_type": "code",
   "execution_count": 1,
   "id": "0ed0abbc",
   "metadata": {
    "execution": {
     "iopub.execute_input": "2025-08-03T01:16:00.786083Z",
     "iopub.status.busy": "2025-08-03T01:16:00.785561Z",
     "iopub.status.idle": "2025-08-03T01:16:06.596762Z",
     "shell.execute_reply": "2025-08-03T01:16:06.596057Z"
    },
    "papermill": {
     "duration": 5.816217,
     "end_time": "2025-08-03T01:16:06.598032",
     "exception": false,
     "start_time": "2025-08-03T01:16:00.781815",
     "status": "completed"
    },
    "tags": []
   },
   "outputs": [
    {
     "name": "stdout",
     "output_type": "stream",
     "text": [
      "Found existing installation: timm 1.0.15\r\n",
      "Uninstalling timm-1.0.15:\r\n",
      "  Successfully uninstalled timm-1.0.15\r\n",
      "Found existing installation: transformers 4.52.4\r\n",
      "Uninstalling transformers-4.52.4:\r\n",
      "  Successfully uninstalled transformers-4.52.4\r\n",
      "Found existing installation: accelerate 1.8.1\r\n",
      "Uninstalling accelerate-1.8.1:\r\n",
      "  Successfully uninstalled accelerate-1.8.1\r\n",
      "Found existing installation: peft 0.15.2\r\n",
      "Uninstalling peft-0.15.2:\r\n",
      "  Successfully uninstalled peft-0.15.2\r\n"
     ]
    }
   ],
   "source": [
    "!pip uninstall timm transformers accelerate peft -y"
   ]
  },
  {
   "cell_type": "code",
   "execution_count": 2,
   "id": "88cbc168",
   "metadata": {
    "execution": {
     "iopub.execute_input": "2025-08-03T01:16:06.604919Z",
     "iopub.status.busy": "2025-08-03T01:16:06.604711Z",
     "iopub.status.idle": "2025-08-03T01:16:06.611452Z",
     "shell.execute_reply": "2025-08-03T01:16:06.610941Z"
    },
    "papermill": {
     "duration": 0.011052,
     "end_time": "2025-08-03T01:16:06.612365",
     "exception": false,
     "start_time": "2025-08-03T01:16:06.601313",
     "status": "completed"
    },
    "tags": []
   },
   "outputs": [
    {
     "name": "stdout",
     "output_type": "stream",
     "text": [
      "No module named 'timm'\n"
     ]
    }
   ],
   "source": [
    "try:\n",
    "    import timm\n",
    "    import transformers\n",
    "    print(timm.__version__ , transformers.__version__)\n",
    "except Exception as e:\n",
    "    print(e)"
   ]
  },
  {
   "cell_type": "code",
   "execution_count": 3,
   "id": "f4e242f5",
   "metadata": {
    "_cell_guid": "b1076dfc-b9ad-4769-8c92-a6c4dae69d19",
    "_uuid": "8f2839f25d086af736a60e9eeb907d3b93b6e0e5",
    "execution": {
     "iopub.execute_input": "2025-08-03T01:16:06.618418Z",
     "iopub.status.busy": "2025-08-03T01:16:06.618222Z",
     "iopub.status.idle": "2025-08-03T01:16:40.585787Z",
     "shell.execute_reply": "2025-08-03T01:16:40.585161Z"
    },
    "papermill": {
     "duration": 33.971922,
     "end_time": "2025-08-03T01:16:40.586978",
     "exception": false,
     "start_time": "2025-08-03T01:16:06.615056",
     "status": "completed"
    },
    "scrolled": true,
    "tags": []
   },
   "outputs": [],
   "source": [
    "import sys\n",
    "sys.path.append(\"/kaggle/input/pip-vlmfs\")\n",
    "# sys.path.append(\"/kaggle/input/pip-quantization\")\n",
    "\n",
    "import timm\n",
    "import torch\n",
    "import torch.nn as nn\n",
    "import transformers\n",
    "from transformers import AutoModelForCausalLM, AutoTokenizer \n",
    "from typing import List, Union , Dict"
   ]
  },
  {
   "cell_type": "code",
   "execution_count": 4,
   "id": "af96d9df",
   "metadata": {
    "execution": {
     "iopub.execute_input": "2025-08-03T01:16:40.594283Z",
     "iopub.status.busy": "2025-08-03T01:16:40.593920Z",
     "iopub.status.idle": "2025-08-03T01:18:53.471114Z",
     "shell.execute_reply": "2025-08-03T01:18:53.470515Z"
    },
    "papermill": {
     "duration": 132.881771,
     "end_time": "2025-08-03T01:18:53.472164",
     "exception": false,
     "start_time": "2025-08-03T01:16:40.590393",
     "status": "completed"
    },
    "scrolled": true,
    "tags": []
   },
   "outputs": [
    {
     "name": "stderr",
     "output_type": "stream",
     "text": [
      "2025-08-03 01:16:47.844030: E external/local_xla/xla/stream_executor/cuda/cuda_fft.cc:477] Unable to register cuFFT factory: Attempting to register factory for plugin cuFFT when one has already been registered\n",
      "WARNING: All log messages before absl::InitializeLog() is called are written to STDERR\n",
      "E0000 00:00:1754183808.082475      19 cuda_dnn.cc:8310] Unable to register cuDNN factory: Attempting to register factory for plugin cuDNN when one has already been registered\n",
      "E0000 00:00:1754183808.150797      19 cuda_blas.cc:1418] Unable to register cuBLAS factory: Attempting to register factory for plugin cuBLAS when one has already been registered\n"
     ]
    },
    {
     "data": {
      "application/vnd.jupyter.widget-view+json": {
       "model_id": "f9bed6f7d0be4b30b6188bf15012b803",
       "version_major": 2,
       "version_minor": 0
      },
      "text/plain": [
       "Loading checkpoint shards:   0%|          | 0/3 [00:00<?, ?it/s]"
      ]
     },
     "metadata": {},
     "output_type": "display_data"
    }
   ],
   "source": [
    "lora_path   = \"/kaggle/input/lmweights/lmweights_lora\"\n",
    "model_path  = \"/kaggle/input/gemma3\"\n",
    "save_path   = \"/kaggle/working\"\n",
    "\n",
    "language_model = AutoModelForCausalLM.from_pretrained(\n",
    "    model_path,\n",
    "    trust_remote_code=True,\n",
    "    device_map=\"cuda:0\",\n",
    "    torch_dtype = torch.bfloat16,\n",
    "    low_cpu_mem_usage=True,\n",
    ")"
   ]
  },
  {
   "cell_type": "code",
   "execution_count": 5,
   "id": "703b9621",
   "metadata": {
    "execution": {
     "iopub.execute_input": "2025-08-03T01:18:53.479524Z",
     "iopub.status.busy": "2025-08-03T01:18:53.479009Z",
     "iopub.status.idle": "2025-08-03T01:18:56.176828Z",
     "shell.execute_reply": "2025-08-03T01:18:56.176235Z"
    },
    "papermill": {
     "duration": 2.702575,
     "end_time": "2025-08-03T01:18:56.178128",
     "exception": false,
     "start_time": "2025-08-03T01:18:53.475553",
     "status": "completed"
    },
    "tags": []
   },
   "outputs": [],
   "source": [
    "sys.path.append(\"/kaggle/input/pip-vlmfs/dir2\")\n",
    "from peft import LoraConfig , get_peft_model , PeftModel , PeftConfig"
   ]
  },
  {
   "cell_type": "code",
   "execution_count": 6,
   "id": "babbfdb3",
   "metadata": {
    "execution": {
     "iopub.execute_input": "2025-08-03T01:18:56.185450Z",
     "iopub.status.busy": "2025-08-03T01:18:56.184953Z",
     "iopub.status.idle": "2025-08-03T01:18:56.188727Z",
     "shell.execute_reply": "2025-08-03T01:18:56.188219Z"
    },
    "papermill": {
     "duration": 0.008217,
     "end_time": "2025-08-03T01:18:56.189636",
     "exception": false,
     "start_time": "2025-08-03T01:18:56.181419",
     "status": "completed"
    },
    "tags": []
   },
   "outputs": [
    {
     "name": "stdout",
     "output_type": "stream",
     "text": [
      "1.0.17 4.53.2\n"
     ]
    }
   ],
   "source": [
    "try:\n",
    "    import timm\n",
    "    import transformers\n",
    "    print(timm.__version__ , transformers.__version__)\n",
    "except Exception as e:\n",
    "    print(e)"
   ]
  },
  {
   "cell_type": "code",
   "execution_count": 7,
   "id": "38d4e185",
   "metadata": {
    "execution": {
     "iopub.execute_input": "2025-08-03T01:18:56.196500Z",
     "iopub.status.busy": "2025-08-03T01:18:56.196012Z",
     "iopub.status.idle": "2025-08-03T01:19:07.663619Z",
     "shell.execute_reply": "2025-08-03T01:19:07.663032Z"
    },
    "papermill": {
     "duration": 11.472119,
     "end_time": "2025-08-03T01:19:07.664731",
     "exception": false,
     "start_time": "2025-08-03T01:18:56.192612",
     "status": "completed"
    },
    "tags": []
   },
   "outputs": [
    {
     "name": "stdout",
     "output_type": "stream",
     "text": [
      "trainable params: 338,165,760 || all params: 5,777,604,032 || trainable%: 5.8530\n"
     ]
    }
   ],
   "source": [
    "tokenizer = AutoTokenizer.from_pretrained(model_path)\n",
    "# model_final = PeftModel.from_pretrained(language_model, lora_path, is_trainable=True , autocast_adapter_dtype=False)\n",
    "model_final = PeftModel.from_pretrained(language_model, lora_path, is_trainable=True)\n",
    "model_final.print_trainable_parameters()"
   ]
  },
  {
   "cell_type": "code",
   "execution_count": 8,
   "id": "7e716e85",
   "metadata": {
    "execution": {
     "iopub.execute_input": "2025-08-03T01:19:07.672629Z",
     "iopub.status.busy": "2025-08-03T01:19:07.672417Z",
     "iopub.status.idle": "2025-08-03T01:19:07.685528Z",
     "shell.execute_reply": "2025-08-03T01:19:07.685007Z"
    },
    "papermill": {
     "duration": 0.018481,
     "end_time": "2025-08-03T01:19:07.686447",
     "exception": false,
     "start_time": "2025-08-03T01:19:07.667966",
     "status": "completed"
    },
    "tags": []
   },
   "outputs": [
    {
     "data": {
      "text/plain": [
       "{torch.bfloat16, torch.float32}"
      ]
     },
     "execution_count": 8,
     "metadata": {},
     "output_type": "execute_result"
    }
   ],
   "source": [
    "l = []\n",
    "for c in model_final.parameters():\n",
    "    l.append(c.dtype)\n",
    "\n",
    "set(l)"
   ]
  },
  {
   "cell_type": "code",
   "execution_count": 9,
   "id": "f7e33d01",
   "metadata": {
    "execution": {
     "iopub.execute_input": "2025-08-03T01:19:07.693361Z",
     "iopub.status.busy": "2025-08-03T01:19:07.692891Z",
     "iopub.status.idle": "2025-08-03T01:19:07.713658Z",
     "shell.execute_reply": "2025-08-03T01:19:07.713170Z"
    },
    "papermill": {
     "duration": 0.025024,
     "end_time": "2025-08-03T01:19:07.714533",
     "exception": false,
     "start_time": "2025-08-03T01:19:07.689509",
     "status": "completed"
    },
    "tags": []
   },
   "outputs": [
    {
     "data": {
      "text/plain": [
       "{torch.bfloat16}"
      ]
     },
     "execution_count": 9,
     "metadata": {},
     "output_type": "execute_result"
    }
   ],
   "source": [
    "from safetensors import safe_open\n",
    "\n",
    "p = \"/kaggle/input/lmweights/lmweights_lora/adapter_model.safetensors\"\n",
    "\n",
    "precisions = []\n",
    "with safe_open(p, framework=\"pt\", device=\"cpu\") as f:\n",
    "    for key in f.keys():\n",
    "        tensor = f.get_tensor(key)\n",
    "        precisions.append(tensor.dtype)\n",
    "\n",
    "set(precisions)"
   ]
  },
  {
   "cell_type": "code",
   "execution_count": 10,
   "id": "51f76876",
   "metadata": {
    "execution": {
     "iopub.execute_input": "2025-08-03T01:19:07.721361Z",
     "iopub.status.busy": "2025-08-03T01:19:07.721015Z",
     "iopub.status.idle": "2025-08-03T01:19:28.734188Z",
     "shell.execute_reply": "2025-08-03T01:19:28.733619Z"
    },
    "papermill": {
     "duration": 21.017608,
     "end_time": "2025-08-03T01:19:28.735161",
     "exception": false,
     "start_time": "2025-08-03T01:19:07.717553",
     "status": "completed"
    },
    "tags": []
   },
   "outputs": [
    {
     "data": {
      "text/plain": [
       "('/kaggle/working/tokenizer_config.json',\n",
       " '/kaggle/working/special_tokens_map.json',\n",
       " '/kaggle/working/tokenizer.model',\n",
       " '/kaggle/working/added_tokens.json',\n",
       " '/kaggle/working/tokenizer.json')"
      ]
     },
     "execution_count": 10,
     "metadata": {},
     "output_type": "execute_result"
    }
   ],
   "source": [
    "merged_model = model_final.merge_and_unload()\n",
    "merged_model = merged_model.to(dtype=torch.bfloat16)\n",
    "\n",
    "merged_model.save_pretrained(save_path , torch_dtype=torch.bfloat16)\n",
    "tokenizer.save_pretrained(save_path)"
   ]
  },
  {
   "cell_type": "code",
   "execution_count": 11,
   "id": "00cc0df3",
   "metadata": {
    "execution": {
     "iopub.execute_input": "2025-08-03T01:19:28.742499Z",
     "iopub.status.busy": "2025-08-03T01:19:28.742270Z",
     "iopub.status.idle": "2025-08-03T01:19:28.760643Z",
     "shell.execute_reply": "2025-08-03T01:19:28.760135Z"
    },
    "papermill": {
     "duration": 0.023041,
     "end_time": "2025-08-03T01:19:28.761602",
     "exception": false,
     "start_time": "2025-08-03T01:19:28.738561",
     "status": "completed"
    },
    "tags": []
   },
   "outputs": [
    {
     "name": "stdout",
     "output_type": "stream",
     "text": [
      "Copied /kaggle/input/gemma3/preprocessor_config.json to /kaggle/working\n",
      "Copied /kaggle/input/gemma3/processor_config.json to /kaggle/working\n"
     ]
    }
   ],
   "source": [
    "import shutil\n",
    "import os\n",
    "\n",
    "files = [\n",
    "    \"/kaggle/input/gemma3/preprocessor_config.json\",\n",
    "    \"/kaggle/input/gemma3/processor_config.json\"   \n",
    "]\n",
    "\n",
    "destination = \"/kaggle/working\"  \n",
    "\n",
    "os.makedirs(destination, exist_ok=True)\n",
    "\n",
    "for file in files:\n",
    "    shutil.copy(file, destination)\n",
    "    print(f\"Copied {file} to {destination}\")\n"
   ]
  },
  {
   "cell_type": "code",
   "execution_count": 12,
   "id": "b9874984",
   "metadata": {
    "execution": {
     "iopub.execute_input": "2025-08-03T01:19:28.768986Z",
     "iopub.status.busy": "2025-08-03T01:19:28.768653Z",
     "iopub.status.idle": "2025-08-03T01:19:28.970595Z",
     "shell.execute_reply": "2025-08-03T01:19:28.969685Z"
    },
    "papermill": {
     "duration": 0.206803,
     "end_time": "2025-08-03T01:19:28.971782",
     "exception": false,
     "start_time": "2025-08-03T01:19:28.764979",
     "status": "completed"
    },
    "tags": []
   },
   "outputs": [],
   "source": [
    "!touch siglip.py"
   ]
  }
 ],
 "metadata": {
  "kaggle": {
   "accelerator": "nvidiaL4",
   "dataSources": [
    {
     "databundleVersionId": 11802066,
     "sourceId": 91496,
     "sourceType": "competition"
    },
    {
     "datasetId": 7879509,
     "sourceId": 12486891,
     "sourceType": "datasetVersion"
    },
    {
     "datasetId": 7721113,
     "sourceId": 12597396,
     "sourceType": "datasetVersion"
    },
    {
     "datasetId": 7995534,
     "sourceId": 12655070,
     "sourceType": "datasetVersion"
    },
    {
     "sourceId": 253278745,
     "sourceType": "kernelVersion"
    }
   ],
   "isGpuEnabled": true,
   "isInternetEnabled": true,
   "language": "python",
   "sourceType": "notebook"
  },
  "kernelspec": {
   "display_name": "Python 3",
   "language": "python",
   "name": "python3"
  },
  "language_info": {
   "codemirror_mode": {
    "name": "ipython",
    "version": 3
   },
   "file_extension": ".py",
   "mimetype": "text/x-python",
   "name": "python",
   "nbconvert_exporter": "python",
   "pygments_lexer": "ipython3",
   "version": "3.11.13"
  },
  "papermill": {
   "default_parameters": {},
   "duration": 216.475403,
   "end_time": "2025-08-03T01:19:32.647625",
   "environment_variables": {},
   "exception": null,
   "input_path": "__notebook__.ipynb",
   "output_path": "__notebook__.ipynb",
   "parameters": {},
   "start_time": "2025-08-03T01:15:56.172222",
   "version": "2.6.0"
  },
  "widgets": {
   "application/vnd.jupyter.widget-state+json": {
    "state": {
     "127d465829d247a2a099881449923305": {
      "model_module": "@jupyter-widgets/controls",
      "model_module_version": "2.0.0",
      "model_name": "HTMLModel",
      "state": {
       "_dom_classes": [],
       "_model_module": "@jupyter-widgets/controls",
       "_model_module_version": "2.0.0",
       "_model_name": "HTMLModel",
       "_view_count": null,
       "_view_module": "@jupyter-widgets/controls",
       "_view_module_version": "2.0.0",
       "_view_name": "HTMLView",
       "description": "",
       "description_allow_html": false,
       "layout": "IPY_MODEL_494c483e4fc74cffae73b1a74b61ef91",
       "placeholder": "​",
       "style": "IPY_MODEL_1e336a9b5534411091964142f58233d7",
       "tabbable": null,
       "tooltip": null,
       "value": "Loading checkpoint shards: 100%"
      }
     },
     "199692df7d1e41c2a26fcd18e0739ac9": {
      "model_module": "@jupyter-widgets/controls",
      "model_module_version": "2.0.0",
      "model_name": "FloatProgressModel",
      "state": {
       "_dom_classes": [],
       "_model_module": "@jupyter-widgets/controls",
       "_model_module_version": "2.0.0",
       "_model_name": "FloatProgressModel",
       "_view_count": null,
       "_view_module": "@jupyter-widgets/controls",
       "_view_module_version": "2.0.0",
       "_view_name": "ProgressView",
       "bar_style": "success",
       "description": "",
       "description_allow_html": false,
       "layout": "IPY_MODEL_926c5aaf7c284fd295ca0a012fb85aea",
       "max": 3.0,
       "min": 0.0,
       "orientation": "horizontal",
       "style": "IPY_MODEL_de49327c2547429fbd55dd75e18160b5",
       "tabbable": null,
       "tooltip": null,
       "value": 3.0
      }
     },
     "1c92773eb1964ea19891d62d3d411ea2": {
      "model_module": "@jupyter-widgets/base",
      "model_module_version": "2.0.0",
      "model_name": "LayoutModel",
      "state": {
       "_model_module": "@jupyter-widgets/base",
       "_model_module_version": "2.0.0",
       "_model_name": "LayoutModel",
       "_view_count": null,
       "_view_module": "@jupyter-widgets/base",
       "_view_module_version": "2.0.0",
       "_view_name": "LayoutView",
       "align_content": null,
       "align_items": null,
       "align_self": null,
       "border_bottom": null,
       "border_left": null,
       "border_right": null,
       "border_top": null,
       "bottom": null,
       "display": null,
       "flex": null,
       "flex_flow": null,
       "grid_area": null,
       "grid_auto_columns": null,
       "grid_auto_flow": null,
       "grid_auto_rows": null,
       "grid_column": null,
       "grid_gap": null,
       "grid_row": null,
       "grid_template_areas": null,
       "grid_template_columns": null,
       "grid_template_rows": null,
       "height": null,
       "justify_content": null,
       "justify_items": null,
       "left": null,
       "margin": null,
       "max_height": null,
       "max_width": null,
       "min_height": null,
       "min_width": null,
       "object_fit": null,
       "object_position": null,
       "order": null,
       "overflow": null,
       "padding": null,
       "right": null,
       "top": null,
       "visibility": null,
       "width": null
      }
     },
     "1e336a9b5534411091964142f58233d7": {
      "model_module": "@jupyter-widgets/controls",
      "model_module_version": "2.0.0",
      "model_name": "HTMLStyleModel",
      "state": {
       "_model_module": "@jupyter-widgets/controls",
       "_model_module_version": "2.0.0",
       "_model_name": "HTMLStyleModel",
       "_view_count": null,
       "_view_module": "@jupyter-widgets/base",
       "_view_module_version": "2.0.0",
       "_view_name": "StyleView",
       "background": null,
       "description_width": "",
       "font_size": null,
       "text_color": null
      }
     },
     "494c483e4fc74cffae73b1a74b61ef91": {
      "model_module": "@jupyter-widgets/base",
      "model_module_version": "2.0.0",
      "model_name": "LayoutModel",
      "state": {
       "_model_module": "@jupyter-widgets/base",
       "_model_module_version": "2.0.0",
       "_model_name": "LayoutModel",
       "_view_count": null,
       "_view_module": "@jupyter-widgets/base",
       "_view_module_version": "2.0.0",
       "_view_name": "LayoutView",
       "align_content": null,
       "align_items": null,
       "align_self": null,
       "border_bottom": null,
       "border_left": null,
       "border_right": null,
       "border_top": null,
       "bottom": null,
       "display": null,
       "flex": null,
       "flex_flow": null,
       "grid_area": null,
       "grid_auto_columns": null,
       "grid_auto_flow": null,
       "grid_auto_rows": null,
       "grid_column": null,
       "grid_gap": null,
       "grid_row": null,
       "grid_template_areas": null,
       "grid_template_columns": null,
       "grid_template_rows": null,
       "height": null,
       "justify_content": null,
       "justify_items": null,
       "left": null,
       "margin": null,
       "max_height": null,
       "max_width": null,
       "min_height": null,
       "min_width": null,
       "object_fit": null,
       "object_position": null,
       "order": null,
       "overflow": null,
       "padding": null,
       "right": null,
       "top": null,
       "visibility": null,
       "width": null
      }
     },
     "926c5aaf7c284fd295ca0a012fb85aea": {
      "model_module": "@jupyter-widgets/base",
      "model_module_version": "2.0.0",
      "model_name": "LayoutModel",
      "state": {
       "_model_module": "@jupyter-widgets/base",
       "_model_module_version": "2.0.0",
       "_model_name": "LayoutModel",
       "_view_count": null,
       "_view_module": "@jupyter-widgets/base",
       "_view_module_version": "2.0.0",
       "_view_name": "LayoutView",
       "align_content": null,
       "align_items": null,
       "align_self": null,
       "border_bottom": null,
       "border_left": null,
       "border_right": null,
       "border_top": null,
       "bottom": null,
       "display": null,
       "flex": null,
       "flex_flow": null,
       "grid_area": null,
       "grid_auto_columns": null,
       "grid_auto_flow": null,
       "grid_auto_rows": null,
       "grid_column": null,
       "grid_gap": null,
       "grid_row": null,
       "grid_template_areas": null,
       "grid_template_columns": null,
       "grid_template_rows": null,
       "height": null,
       "justify_content": null,
       "justify_items": null,
       "left": null,
       "margin": null,
       "max_height": null,
       "max_width": null,
       "min_height": null,
       "min_width": null,
       "object_fit": null,
       "object_position": null,
       "order": null,
       "overflow": null,
       "padding": null,
       "right": null,
       "top": null,
       "visibility": null,
       "width": null
      }
     },
     "ac393fdd381d4422b0c5f55ced162918": {
      "model_module": "@jupyter-widgets/base",
      "model_module_version": "2.0.0",
      "model_name": "LayoutModel",
      "state": {
       "_model_module": "@jupyter-widgets/base",
       "_model_module_version": "2.0.0",
       "_model_name": "LayoutModel",
       "_view_count": null,
       "_view_module": "@jupyter-widgets/base",
       "_view_module_version": "2.0.0",
       "_view_name": "LayoutView",
       "align_content": null,
       "align_items": null,
       "align_self": null,
       "border_bottom": null,
       "border_left": null,
       "border_right": null,
       "border_top": null,
       "bottom": null,
       "display": null,
       "flex": null,
       "flex_flow": null,
       "grid_area": null,
       "grid_auto_columns": null,
       "grid_auto_flow": null,
       "grid_auto_rows": null,
       "grid_column": null,
       "grid_gap": null,
       "grid_row": null,
       "grid_template_areas": null,
       "grid_template_columns": null,
       "grid_template_rows": null,
       "height": null,
       "justify_content": null,
       "justify_items": null,
       "left": null,
       "margin": null,
       "max_height": null,
       "max_width": null,
       "min_height": null,
       "min_width": null,
       "object_fit": null,
       "object_position": null,
       "order": null,
       "overflow": null,
       "padding": null,
       "right": null,
       "top": null,
       "visibility": null,
       "width": null
      }
     },
     "c020cef4243943eebb1075b063a10dd7": {
      "model_module": "@jupyter-widgets/controls",
      "model_module_version": "2.0.0",
      "model_name": "HTMLModel",
      "state": {
       "_dom_classes": [],
       "_model_module": "@jupyter-widgets/controls",
       "_model_module_version": "2.0.0",
       "_model_name": "HTMLModel",
       "_view_count": null,
       "_view_module": "@jupyter-widgets/controls",
       "_view_module_version": "2.0.0",
       "_view_name": "HTMLView",
       "description": "",
       "description_allow_html": false,
       "layout": "IPY_MODEL_1c92773eb1964ea19891d62d3d411ea2",
       "placeholder": "​",
       "style": "IPY_MODEL_d9f7875986024c7486c014c712d5f776",
       "tabbable": null,
       "tooltip": null,
       "value": " 3/3 [01:44&lt;00:00, 33.89s/it]"
      }
     },
     "d9f7875986024c7486c014c712d5f776": {
      "model_module": "@jupyter-widgets/controls",
      "model_module_version": "2.0.0",
      "model_name": "HTMLStyleModel",
      "state": {
       "_model_module": "@jupyter-widgets/controls",
       "_model_module_version": "2.0.0",
       "_model_name": "HTMLStyleModel",
       "_view_count": null,
       "_view_module": "@jupyter-widgets/base",
       "_view_module_version": "2.0.0",
       "_view_name": "StyleView",
       "background": null,
       "description_width": "",
       "font_size": null,
       "text_color": null
      }
     },
     "de49327c2547429fbd55dd75e18160b5": {
      "model_module": "@jupyter-widgets/controls",
      "model_module_version": "2.0.0",
      "model_name": "ProgressStyleModel",
      "state": {
       "_model_module": "@jupyter-widgets/controls",
       "_model_module_version": "2.0.0",
       "_model_name": "ProgressStyleModel",
       "_view_count": null,
       "_view_module": "@jupyter-widgets/base",
       "_view_module_version": "2.0.0",
       "_view_name": "StyleView",
       "bar_color": null,
       "description_width": ""
      }
     },
     "f9bed6f7d0be4b30b6188bf15012b803": {
      "model_module": "@jupyter-widgets/controls",
      "model_module_version": "2.0.0",
      "model_name": "HBoxModel",
      "state": {
       "_dom_classes": [],
       "_model_module": "@jupyter-widgets/controls",
       "_model_module_version": "2.0.0",
       "_model_name": "HBoxModel",
       "_view_count": null,
       "_view_module": "@jupyter-widgets/controls",
       "_view_module_version": "2.0.0",
       "_view_name": "HBoxView",
       "box_style": "",
       "children": [
        "IPY_MODEL_127d465829d247a2a099881449923305",
        "IPY_MODEL_199692df7d1e41c2a26fcd18e0739ac9",
        "IPY_MODEL_c020cef4243943eebb1075b063a10dd7"
       ],
       "layout": "IPY_MODEL_ac393fdd381d4422b0c5f55ced162918",
       "tabbable": null,
       "tooltip": null
      }
     }
    },
    "version_major": 2,
    "version_minor": 0
   }
  }
 },
 "nbformat": 4,
 "nbformat_minor": 5
}
