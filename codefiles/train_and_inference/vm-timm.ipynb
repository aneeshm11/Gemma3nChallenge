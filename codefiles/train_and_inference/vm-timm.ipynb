{
 "cells": [
  {
   "cell_type": "code",
   "execution_count": 1,
   "id": "531881d2",
   "metadata": {
    "execution": {
     "iopub.execute_input": "2025-08-02T03:24:59.754063Z",
     "iopub.status.busy": "2025-08-02T03:24:59.753798Z",
     "iopub.status.idle": "2025-08-02T03:25:12.267198Z",
     "shell.execute_reply": "2025-08-02T03:25:12.266581Z"
    },
    "papermill": {
     "duration": 12.519823,
     "end_time": "2025-08-02T03:25:12.268577",
     "exception": false,
     "start_time": "2025-08-02T03:24:59.748754",
     "status": "completed"
    },
    "tags": []
   },
   "outputs": [],
   "source": [
    "import torch\n",
    "import torch.nn as nn\n",
    "import torch.optim as optim\n",
    "from torch.utils.data import Dataset, DataLoader\n",
    "import numpy as np\n",
    "import os\n",
    "from tqdm import tqdm\n",
    "import glob\n",
    "import sys\n",
    "sys.path.append(\"/kaggle/input/pip-vlmfs\")\n",
    "import timm"
   ]
  },
  {
   "cell_type": "markdown",
   "id": "e6d72155",
   "metadata": {
    "papermill": {
     "duration": 0.003138,
     "end_time": "2025-08-02T03:25:12.275508",
     "exception": false,
     "start_time": "2025-08-02T03:25:12.272370",
     "status": "completed"
    },
    "tags": []
   },
   "source": [
    "# ARGS"
   ]
  },
  {
   "cell_type": "code",
   "execution_count": 2,
   "id": "6ed1df1b",
   "metadata": {
    "execution": {
     "iopub.execute_input": "2025-08-02T03:25:12.282725Z",
     "iopub.status.busy": "2025-08-02T03:25:12.282482Z",
     "iopub.status.idle": "2025-08-02T03:25:12.333924Z",
     "shell.execute_reply": "2025-08-02T03:25:12.333266Z"
    },
    "papermill": {
     "duration": 0.056581,
     "end_time": "2025-08-02T03:25:12.335285",
     "exception": false,
     "start_time": "2025-08-02T03:25:12.278704",
     "status": "completed"
    },
    "tags": []
   },
   "outputs": [],
   "source": [
    "class CFG:\n",
    "    epochs = 50\n",
    "    train_batch_size = 10\n",
    "    val_batch_size = 10\n",
    "    test_batch_size = 10\n",
    "    \n",
    "    train_start = 0\n",
    "    train_end = 4500\n",
    "    \n",
    "    val_start = 4500\n",
    "    val_end =  5000\n",
    "    \n",
    "    test_start = 5000\n",
    "    test_end = 5109\n",
    "    \n",
    "    lr = 2e-5\n",
    "    patience = 5\n",
    "    device = torch.device(\"cuda\" if torch.cuda.is_available() else \"cpu\")"
   ]
  },
  {
   "cell_type": "markdown",
   "id": "0bc58f78",
   "metadata": {
    "papermill": {
     "duration": 0.003759,
     "end_time": "2025-08-02T03:25:12.342884",
     "exception": false,
     "start_time": "2025-08-02T03:25:12.339125",
     "status": "completed"
    },
    "tags": []
   },
   "source": [
    "# DATASET"
   ]
  },
  {
   "cell_type": "code",
   "execution_count": 3,
   "id": "994ae72f",
   "metadata": {
    "execution": {
     "iopub.execute_input": "2025-08-02T03:25:12.351463Z",
     "iopub.status.busy": "2025-08-02T03:25:12.351240Z",
     "iopub.status.idle": "2025-08-02T03:25:12.356746Z",
     "shell.execute_reply": "2025-08-02T03:25:12.356094Z"
    },
    "papermill": {
     "duration": 0.011556,
     "end_time": "2025-08-02T03:25:12.358015",
     "exception": false,
     "start_time": "2025-08-02T03:25:12.346459",
     "status": "completed"
    },
    "tags": []
   },
   "outputs": [],
   "source": [
    "class PathologyDataset(Dataset):\n",
    "    def __init__(self, patches, labels, start_idx, end_idx):\n",
    "        self.patches = patches\n",
    "        self.labels = labels\n",
    "        self.start_idx = start_idx\n",
    "        self.end_idx = end_idx\n",
    "        self.length = end_idx - start_idx\n",
    "    \n",
    "    def __len__(self):\n",
    "        return self.length\n",
    "    \n",
    "    def __getitem__(self, idx):\n",
    "        actual_idx = self.start_idx + idx\n",
    "        \n",
    "        patch = self.patches[actual_idx]\n",
    "        label = self.labels[actual_idx]\n",
    "        \n",
    "        patch = torch.tensor(patch) \n",
    "        label = torch.tensor(label, dtype=torch.long) \n",
    "        \n",
    "        return patch, label\n",
    "\n"
   ]
  },
  {
   "cell_type": "code",
   "execution_count": 4,
   "id": "d4a86e54",
   "metadata": {
    "execution": {
     "iopub.execute_input": "2025-08-02T03:25:12.366029Z",
     "iopub.status.busy": "2025-08-02T03:25:12.365815Z",
     "iopub.status.idle": "2025-08-02T03:25:12.400256Z",
     "shell.execute_reply": "2025-08-02T03:25:12.399571Z"
    },
    "papermill": {
     "duration": 0.039702,
     "end_time": "2025-08-02T03:25:12.401323",
     "exception": false,
     "start_time": "2025-08-02T03:25:12.361621",
     "status": "completed"
    },
    "tags": []
   },
   "outputs": [
    {
     "name": "stdout",
     "output_type": "stream",
     "text": [
      "Inputs shape: (5109, 3, 256, 256)\n",
      "Labels shape: (5109,)\n",
      "Labels range: 0 to 7\n",
      "Unique labels: [0 1 2 3 4 5 6 7]\n",
      "Using device: cuda\n",
      "Training samples: 4500\n",
      "Validation samples: 500\n",
      "Test samples: 109\n"
     ]
    }
   ],
   "source": [
    "inputs = np.load(\"/kaggle/input/miccaireg/images.npy\", mmap_mode=\"r\")\n",
    "labels = np.load(\"/kaggle/input/miccaireg/labels.npy\")\n",
    "\n",
    "print(f\"Inputs shape: {inputs.shape}\")\n",
    "print(f\"Labels shape: {labels.shape}\")\n",
    "print(f\"Labels range: {labels.min()} to {labels.max()}\")\n",
    "print(f\"Unique labels: {np.unique(labels)}\")\n",
    "\n",
    "print(f\"Using device: {CFG.device}\")\n",
    "print(f\"Training samples: {CFG.train_end - CFG.train_start}\")\n",
    "print(f\"Validation samples: {CFG.val_end - CFG.val_start}\")\n",
    "print(f\"Test samples: {CFG.test_end - CFG.test_start}\")"
   ]
  },
  {
   "cell_type": "code",
   "execution_count": 5,
   "id": "5b22e3eb",
   "metadata": {
    "execution": {
     "iopub.execute_input": "2025-08-02T03:25:12.409343Z",
     "iopub.status.busy": "2025-08-02T03:25:12.409118Z",
     "iopub.status.idle": "2025-08-02T03:25:12.938898Z",
     "shell.execute_reply": "2025-08-02T03:25:12.937876Z"
    },
    "papermill": {
     "duration": 0.535118,
     "end_time": "2025-08-02T03:25:12.940111",
     "exception": false,
     "start_time": "2025-08-02T03:25:12.404993",
     "status": "completed"
    },
    "tags": []
   },
   "outputs": [
    {
     "name": "stdout",
     "output_type": "stream",
     "text": [
      "Train batches: 450\n",
      "Val batches: 50\n",
      "Test batches: 11\n",
      "Sample batch shape: torch.Size([10, 3, 256, 256])\n",
      "Sample labels shape: torch.Size([10])\n",
      "Sample labels: tensor([5, 7, 7, 5, 0, 0, 4, 1, 5, 5])\n"
     ]
    }
   ],
   "source": [
    "train_dataset = PathologyDataset(inputs, labels, CFG.train_start, CFG.train_end)\n",
    "val_dataset = PathologyDataset(inputs, labels, CFG.val_start, CFG.val_end)\n",
    "test_dataset = PathologyDataset(inputs, labels, CFG.test_start, CFG.test_end)\n",
    "\n",
    "train_loader = DataLoader(train_dataset, batch_size=CFG.train_batch_size, shuffle=True, pin_memory=True,num_workers=4)\n",
    "val_loader   = DataLoader(val_dataset, batch_size=CFG.val_batch_size, shuffle=True, pin_memory=True,num_workers=4)\n",
    "test_loader  = DataLoader(test_dataset, batch_size=CFG.test_batch_size, shuffle=False, pin_memory=True,num_workers=2)\n",
    "\n",
    "print(f\"Train batches: {len(train_loader)}\")\n",
    "print(f\"Val batches: {len(val_loader)}\")\n",
    "print(f\"Test batches: {len(test_loader)}\")\n",
    "\n",
    "sample_batch, sample_labels = next(iter(train_loader))\n",
    "print(f\"Sample batch shape: {sample_batch.shape}\")\n",
    "print(f\"Sample labels shape: {sample_labels.shape}\")\n",
    "print(f\"Sample labels: {sample_labels}\")\n"
   ]
  },
  {
   "cell_type": "markdown",
   "id": "0b47525b",
   "metadata": {
    "papermill": {
     "duration": 0.00403,
     "end_time": "2025-08-02T03:25:12.947792",
     "exception": false,
     "start_time": "2025-08-02T03:25:12.943762",
     "status": "completed"
    },
    "tags": []
   },
   "source": [
    "# MODEL"
   ]
  },
  {
   "cell_type": "markdown",
   "id": "8289c4c3",
   "metadata": {
    "papermill": {
     "duration": 0.003069,
     "end_time": "2025-08-02T03:25:12.954132",
     "exception": false,
     "start_time": "2025-08-02T03:25:12.951063",
     "status": "completed"
    },
    "tags": []
   },
   "source": [
    "#### ViT MODEL"
   ]
  },
  {
   "cell_type": "code",
   "execution_count": 6,
   "id": "102f4aba",
   "metadata": {
    "execution": {
     "iopub.execute_input": "2025-08-02T03:25:12.961767Z",
     "iopub.status.busy": "2025-08-02T03:25:12.961530Z",
     "iopub.status.idle": "2025-08-02T03:25:12.967116Z",
     "shell.execute_reply": "2025-08-02T03:25:12.966590Z"
    },
    "papermill": {
     "duration": 0.010694,
     "end_time": "2025-08-02T03:25:12.968147",
     "exception": false,
     "start_time": "2025-08-02T03:25:12.957453",
     "status": "completed"
    },
    "tags": []
   },
   "outputs": [],
   "source": [
    "class TimmViTModel(nn.Module):\n",
    "    def __init__(self, num_classes: int = 8, model_name: str = \"vit_small_patch16_224\"):\n",
    "        super().__init__()\n",
    "        \n",
    "        self.backbone = timm.create_model(\n",
    "            model_name, \n",
    "            pretrained=True, \n",
    "            num_classes=0,  \n",
    "            img_size=256     \n",
    "        )\n",
    "        \n",
    "        self.feature_dim = self.backbone.num_features\n",
    "        \n",
    "        self.classifier = nn.Sequential(\n",
    "            nn.Dropout(0.1),\n",
    "            nn.Linear(self.feature_dim, 512),\n",
    "            nn.ReLU(inplace=True),\n",
    "            nn.BatchNorm1d(512),\n",
    "        \n",
    "            nn.Dropout(0.1),\n",
    "            nn.Linear(512, 256),\n",
    "            nn.ReLU(inplace=True),\n",
    "            nn.Linear(256, num_classes)\n",
    "        )\n",
    "\n",
    "        \n",
    "    def forward_features(self, x: torch.Tensor) -> torch.Tensor:\n",
    "        return self.backbone(x)\n",
    "    \n",
    "    def forward(self, x: torch.Tensor) -> torch.Tensor:\n",
    "        features = self.forward_features(x)\n",
    "        logits = self.classifier(features)\n",
    "        return logits"
   ]
  },
  {
   "cell_type": "markdown",
   "id": "e3efd0f8",
   "metadata": {
    "papermill": {
     "duration": 0.003311,
     "end_time": "2025-08-02T03:25:12.974749",
     "exception": false,
     "start_time": "2025-08-02T03:25:12.971438",
     "status": "completed"
    },
    "tags": []
   },
   "source": [
    "#### CNN MODEL"
   ]
  },
  {
   "cell_type": "code",
   "execution_count": 7,
   "id": "cbb0cfec",
   "metadata": {
    "execution": {
     "iopub.execute_input": "2025-08-02T03:25:12.982102Z",
     "iopub.status.busy": "2025-08-02T03:25:12.981531Z",
     "iopub.status.idle": "2025-08-02T03:25:12.986831Z",
     "shell.execute_reply": "2025-08-02T03:25:12.986334Z"
    },
    "papermill": {
     "duration": 0.009925,
     "end_time": "2025-08-02T03:25:12.987840",
     "exception": false,
     "start_time": "2025-08-02T03:25:12.977915",
     "status": "completed"
    },
    "tags": []
   },
   "outputs": [],
   "source": [
    "class TimmCNNModel(nn.Module):\n",
    "    # timm/mobilenetv4_conv_medium.e500_r256_in1k\n",
    "    def __init__(self, num_classes: int = 8, model_name: str = \"efficientnet_b0\"):\n",
    "        super().__init__()\n",
    "        \n",
    "        self.backbone = timm.create_model(\n",
    "            model_name,\n",
    "            pretrained=True,\n",
    "            num_classes=0,\n",
    "            )\n",
    "        \n",
    "        self.feature_dim = self.backbone.num_features\n",
    "        \n",
    "\n",
    "        self.classifier = nn.Sequential(\n",
    "            nn.Dropout(0.1),\n",
    "            nn.Linear(self.feature_dim, 512),\n",
    "            nn.ReLU(inplace=True),\n",
    "            nn.BatchNorm1d(512),\n",
    "        \n",
    "            nn.Dropout(0.1),\n",
    "            nn.Linear(512, 256),\n",
    "            nn.ReLU(inplace=True),\n",
    "            nn.Linear(256, num_classes)\n",
    "        )\n",
    "\n",
    "        \n",
    "    def forward_features(self, x: torch.Tensor) -> torch.Tensor:\n",
    "        return self.backbone(x)\n",
    "    \n",
    "    def forward(self, x: torch.Tensor) -> torch.Tensor:\n",
    "        features = self.forward_features(x)\n",
    "        logits = self.classifier(features)\n",
    "        return logits\n"
   ]
  },
  {
   "cell_type": "code",
   "execution_count": 8,
   "id": "c6baf902",
   "metadata": {
    "execution": {
     "iopub.execute_input": "2025-08-02T03:25:12.994860Z",
     "iopub.status.busy": "2025-08-02T03:25:12.994674Z",
     "iopub.status.idle": "2025-08-02T03:25:14.059258Z",
     "shell.execute_reply": "2025-08-02T03:25:14.058576Z"
    },
    "papermill": {
     "duration": 1.069429,
     "end_time": "2025-08-02T03:25:14.060437",
     "exception": false,
     "start_time": "2025-08-02T03:25:12.991008",
     "status": "completed"
    },
    "tags": []
   },
   "outputs": [
    {
     "data": {
      "application/vnd.jupyter.widget-view+json": {
       "model_id": "8c58482930444477a80cc070a8df462d",
       "version_major": 2,
       "version_minor": 0
      },
      "text/plain": [
       "model.safetensors:   0%|          | 0.00/88.2M [00:00<?, ?B/s]"
      ]
     },
     "metadata": {},
     "output_type": "display_data"
    },
    {
     "name": "stdout",
     "output_type": "stream",
     "text": [
      "Total parameters: 22.02M\n",
      "Backbone parameters: 21.69M\n",
      "Classifier parameters: 331528\n",
      "Total trainable parameters: 22.02M\n",
      "Backbone trainable parameters: 21.69M\n",
      "Classifier trainable parameters: 331528\n"
     ]
    }
   ],
   "source": [
    "model = TimmViTModel(num_classes=8)\n",
    "# model = TimmCNNModel(num_classes=8)\n",
    "\n",
    "model = model.to(CFG.device)\n",
    "\n",
    "total_params      = sum(p.numel() for p in model.parameters())\n",
    "backbone_params   = sum(p.numel() for p in model.backbone.parameters() if p.requires_grad)\n",
    "classifier_params = sum(p.numel() for p in model.classifier.parameters() if p.requires_grad)\n",
    "\n",
    "total_trainable_params      = sum(p.numel() for p in model.parameters() if p.requires_grad)\n",
    "backbone_trainable_params   = sum(p.numel() for p in model.backbone.parameters() if p.requires_grad)\n",
    "classifier_trainable_params = sum(p.numel() for p in model.classifier.parameters() if p.requires_grad)\n",
    "\n",
    "print(f\"Total parameters: {total_params / 1e6:.2f}M\")\n",
    "print(f\"Backbone parameters: {backbone_params / 1e6:.2f}M\")\n",
    "print(f\"Classifier parameters: {classifier_params}\")\n",
    "\n",
    "print(f\"Total trainable parameters: {total_trainable_params / 1e6:.2f}M\")\n",
    "print(f\"Backbone trainable parameters: {backbone_trainable_params / 1e6:.2f}M\")\n",
    "print(f\"Classifier trainable parameters: {classifier_trainable_params}\")"
   ]
  },
  {
   "cell_type": "code",
   "execution_count": 9,
   "id": "626f96e0",
   "metadata": {
    "execution": {
     "iopub.execute_input": "2025-08-02T03:25:14.068728Z",
     "iopub.status.busy": "2025-08-02T03:25:14.068469Z",
     "iopub.status.idle": "2025-08-02T03:25:14.559205Z",
     "shell.execute_reply": "2025-08-02T03:25:14.558573Z"
    },
    "papermill": {
     "duration": 0.495839,
     "end_time": "2025-08-02T03:25:14.560233",
     "exception": false,
     "start_time": "2025-08-02T03:25:14.064394",
     "status": "completed"
    },
    "tags": []
   },
   "outputs": [
    {
     "data": {
      "text/plain": [
       "torch.Size([2, 257, 384])"
      ]
     },
     "execution_count": 9,
     "metadata": {},
     "output_type": "execute_result"
    }
   ],
   "source": [
    "model.backbone.forward_features(torch.rand(2,3,256,256).to(CFG.device)).shape"
   ]
  },
  {
   "cell_type": "code",
   "execution_count": 10,
   "id": "9b65d192",
   "metadata": {
    "execution": {
     "iopub.execute_input": "2025-08-02T03:25:14.568411Z",
     "iopub.status.busy": "2025-08-02T03:25:14.568203Z",
     "iopub.status.idle": "2025-08-02T03:25:14.576022Z",
     "shell.execute_reply": "2025-08-02T03:25:14.575300Z"
    },
    "papermill": {
     "duration": 0.012885,
     "end_time": "2025-08-02T03:25:14.577049",
     "exception": false,
     "start_time": "2025-08-02T03:25:14.564164",
     "status": "completed"
    },
    "tags": []
   },
   "outputs": [
    {
     "name": "stdout",
     "output_type": "stream",
     "text": [
      "Criterion: CrossEntropyLoss()\n",
      "Optimizer: Adam (\n",
      "Parameter Group 0\n",
      "    amsgrad: False\n",
      "    betas: (0.9, 0.999)\n",
      "    capturable: False\n",
      "    differentiable: False\n",
      "    eps: 1e-08\n",
      "    foreach: None\n",
      "    fused: None\n",
      "    lr: 2e-05\n",
      "    maximize: False\n",
      "    weight_decay: 0\n",
      ")\n",
      "Scheduler: <torch.optim.lr_scheduler.ReduceLROnPlateau object at 0x7c1bc2c59490>\n"
     ]
    },
    {
     "name": "stderr",
     "output_type": "stream",
     "text": [
      "/usr/local/lib/python3.11/dist-packages/torch/optim/lr_scheduler.py:62: UserWarning: The verbose parameter is deprecated. Please use get_last_lr() to access the learning rate.\n",
      "  warnings.warn(\n"
     ]
    }
   ],
   "source": [
    "criterion = nn.CrossEntropyLoss()\n",
    "optimizer = optim.Adam(model.parameters(), lr=CFG.lr)\n",
    "scheduler = optim.lr_scheduler.ReduceLROnPlateau(\n",
    "    optimizer, \n",
    "    mode='min', \n",
    "    factor=0.5, \n",
    "    patience=3, \n",
    "    min_lr=1e-7,\n",
    "    verbose=False\n",
    ")\n",
    "\n",
    "print(f\"Criterion: {criterion}\")\n",
    "print(f\"Optimizer: {optimizer}\")\n",
    "print(f\"Scheduler: {scheduler}\")"
   ]
  },
  {
   "cell_type": "code",
   "execution_count": 11,
   "id": "6a99ab34",
   "metadata": {
    "execution": {
     "iopub.execute_input": "2025-08-02T03:25:14.585504Z",
     "iopub.status.busy": "2025-08-02T03:25:14.584978Z",
     "iopub.status.idle": "2025-08-02T03:25:14.590046Z",
     "shell.execute_reply": "2025-08-02T03:25:14.589512Z"
    },
    "papermill": {
     "duration": 0.010372,
     "end_time": "2025-08-02T03:25:14.591016",
     "exception": false,
     "start_time": "2025-08-02T03:25:14.580644",
     "status": "completed"
    },
    "tags": []
   },
   "outputs": [],
   "source": [
    "def manage_checkpoints(save_dir, keep_last_n=3):\n",
    "    checkpoint_pattern = os.path.join(save_dir, 'epoch*.pth')\n",
    "    checkpoint_files = glob.glob(checkpoint_pattern)\n",
    "    \n",
    "    checkpoints = []\n",
    "    for checkpoint_file in checkpoint_files:\n",
    "        filename = os.path.basename(checkpoint_file)\n",
    "        try:\n",
    "            epoch_num = int(filename.replace('epoch', '').replace('.pth', ''))\n",
    "            checkpoints.append((epoch_num, checkpoint_file))\n",
    "        except ValueError:\n",
    "            continue\n",
    "    \n",
    "    checkpoints.sort(reverse=True)\n",
    "    \n",
    "    if len(checkpoints) > keep_last_n:\n",
    "        for _, checkpoint_file in checkpoints[keep_last_n:]:\n",
    "            try:\n",
    "                os.remove(checkpoint_file)\n",
    "                print(f\"Removed old checkpoint: {os.path.basename(checkpoint_file)}\")\n",
    "            except Exception as e:\n",
    "                print(f\"Error removing checkpoint {checkpoint_file}: {e}\")\n"
   ]
  },
  {
   "cell_type": "code",
   "execution_count": 12,
   "id": "2e44c731",
   "metadata": {
    "execution": {
     "iopub.execute_input": "2025-08-02T03:25:14.598918Z",
     "iopub.status.busy": "2025-08-02T03:25:14.598743Z",
     "iopub.status.idle": "2025-08-02T03:32:53.384567Z",
     "shell.execute_reply": "2025-08-02T03:32:53.383484Z"
    },
    "papermill": {
     "duration": 458.791503,
     "end_time": "2025-08-02T03:32:53.386002",
     "exception": false,
     "start_time": "2025-08-02T03:25:14.594499",
     "status": "completed"
    },
    "tags": []
   },
   "outputs": [
    {
     "name": "stdout",
     "output_type": "stream",
     "text": [
      "Starting training...\n",
      "\n",
      "============================================================\n",
      "Epoch 1/50\n",
      "============================================================\n"
     ]
    },
    {
     "name": "stderr",
     "output_type": "stream",
     "text": [
      "Training Epoch 1: 100%|██████████| 450/450 [00:44<00:00, 10.08it/s, Loss=0.6658]\n",
      "Validation Epoch 1: 100%|██████████| 50/50 [00:01<00:00, 30.39it/s, Loss=0.8709]\n"
     ]
    },
    {
     "name": "stdout",
     "output_type": "stream",
     "text": [
      "Train Loss: 1.3016\n",
      "Val Loss: 0.6075\n",
      "Val Accuracy: 86.60%\n",
      "\n",
      "============================================================\n",
      "Epoch 2/50\n",
      "============================================================\n"
     ]
    },
    {
     "name": "stderr",
     "output_type": "stream",
     "text": [
      "Training Epoch 2: 100%|██████████| 450/450 [00:44<00:00, 10.16it/s, Loss=0.2265]\n",
      "Validation Epoch 2: 100%|██████████| 50/50 [00:01<00:00, 33.37it/s, Loss=0.5759]\n"
     ]
    },
    {
     "name": "stdout",
     "output_type": "stream",
     "text": [
      "Train Loss: 0.6921\n",
      "Val Loss: 0.3962\n",
      "Val Accuracy: 88.80%\n",
      "\n",
      "============================================================\n",
      "Epoch 3/50\n",
      "============================================================\n"
     ]
    },
    {
     "name": "stderr",
     "output_type": "stream",
     "text": [
      "Training Epoch 3: 100%|██████████| 450/450 [00:44<00:00, 10.20it/s, Loss=0.9964]\n",
      "Validation Epoch 3: 100%|██████████| 50/50 [00:01<00:00, 32.65it/s, Loss=0.0333]\n"
     ]
    },
    {
     "name": "stdout",
     "output_type": "stream",
     "text": [
      "Train Loss: 0.5282\n",
      "Val Loss: 0.3872\n",
      "Val Accuracy: 86.60%\n",
      "\n",
      "============================================================\n",
      "Epoch 4/50\n",
      "============================================================\n"
     ]
    },
    {
     "name": "stderr",
     "output_type": "stream",
     "text": [
      "Training Epoch 4: 100%|██████████| 450/450 [00:44<00:00, 10.18it/s, Loss=0.3630]\n",
      "Validation Epoch 4: 100%|██████████| 50/50 [00:01<00:00, 34.08it/s, Loss=0.3757]\n"
     ]
    },
    {
     "name": "stdout",
     "output_type": "stream",
     "text": [
      "Train Loss: 0.4052\n",
      "Val Loss: 0.3759\n",
      "Val Accuracy: 88.80%\n",
      "\n",
      "============================================================\n",
      "Epoch 5/50\n",
      "============================================================\n"
     ]
    },
    {
     "name": "stderr",
     "output_type": "stream",
     "text": [
      "Training Epoch 5: 100%|██████████| 450/450 [00:44<00:00, 10.21it/s, Loss=0.1784]\n",
      "Validation Epoch 5: 100%|██████████| 50/50 [00:01<00:00, 34.05it/s, Loss=0.3717]\n"
     ]
    },
    {
     "name": "stdout",
     "output_type": "stream",
     "text": [
      "Train Loss: 0.3065\n",
      "Val Loss: 0.3186\n",
      "Val Accuracy: 90.20%\n",
      "\n",
      "============================================================\n",
      "Epoch 6/50\n",
      "============================================================\n"
     ]
    },
    {
     "name": "stderr",
     "output_type": "stream",
     "text": [
      "Training Epoch 6: 100%|██████████| 450/450 [00:44<00:00, 10.20it/s, Loss=0.2271]\n",
      "Validation Epoch 6: 100%|██████████| 50/50 [00:01<00:00, 34.05it/s, Loss=0.0101]\n"
     ]
    },
    {
     "name": "stdout",
     "output_type": "stream",
     "text": [
      "Train Loss: 0.2421\n",
      "Val Loss: 0.4164\n",
      "Val Accuracy: 88.00%\n",
      "Patience: 1/5\n",
      "\n",
      "============================================================\n",
      "Epoch 7/50\n",
      "============================================================\n"
     ]
    },
    {
     "name": "stderr",
     "output_type": "stream",
     "text": [
      "Training Epoch 7: 100%|██████████| 450/450 [00:44<00:00, 10.20it/s, Loss=0.1696]\n",
      "Validation Epoch 7: 100%|██████████| 50/50 [00:01<00:00, 33.89it/s, Loss=0.5057]\n"
     ]
    },
    {
     "name": "stdout",
     "output_type": "stream",
     "text": [
      "Train Loss: 0.1747\n",
      "Val Loss: 0.3236\n",
      "Val Accuracy: 90.60%\n",
      "Patience: 2/5\n",
      "\n",
      "============================================================\n",
      "Epoch 8/50\n",
      "============================================================\n"
     ]
    },
    {
     "name": "stderr",
     "output_type": "stream",
     "text": [
      "Training Epoch 8: 100%|██████████| 450/450 [00:44<00:00, 10.19it/s, Loss=0.1751]\n",
      "Validation Epoch 8: 100%|██████████| 50/50 [00:01<00:00, 34.10it/s, Loss=1.3918]\n"
     ]
    },
    {
     "name": "stdout",
     "output_type": "stream",
     "text": [
      "Train Loss: 0.1556\n",
      "Val Loss: 0.3865\n",
      "Val Accuracy: 89.60%\n",
      "Patience: 3/5\n",
      "\n",
      "============================================================\n",
      "Epoch 9/50\n",
      "============================================================\n"
     ]
    },
    {
     "name": "stderr",
     "output_type": "stream",
     "text": [
      "Training Epoch 9: 100%|██████████| 450/450 [00:44<00:00, 10.20it/s, Loss=0.0184]\n",
      "Validation Epoch 9: 100%|██████████| 50/50 [00:01<00:00, 33.92it/s, Loss=0.4479]\n"
     ]
    },
    {
     "name": "stdout",
     "output_type": "stream",
     "text": [
      "Train Loss: 0.1586\n",
      "Val Loss: 0.4753\n",
      "Val Accuracy: 87.80%\n",
      "LR decreased to 1e-05\n",
      "Patience: 4/5\n",
      "\n",
      "============================================================\n",
      "Epoch 10/50\n",
      "============================================================\n"
     ]
    },
    {
     "name": "stderr",
     "output_type": "stream",
     "text": [
      "Training Epoch 10: 100%|██████████| 450/450 [00:44<00:00, 10.20it/s, Loss=0.4749]\n",
      "Validation Epoch 10: 100%|██████████| 50/50 [00:01<00:00, 34.14it/s, Loss=0.7237]"
     ]
    },
    {
     "name": "stdout",
     "output_type": "stream",
     "text": [
      "Train Loss: 0.0942\n",
      "Val Loss: 0.4302\n",
      "Val Accuracy: 88.20%\n",
      "Patience: 5/5\n",
      "Early stopping triggered after 10 epochs!\n"
     ]
    },
    {
     "name": "stderr",
     "output_type": "stream",
     "text": [
      "\n"
     ]
    }
   ],
   "source": [
    "print(\"Starting training...\")\n",
    "\n",
    "best_val_loss = float('inf')\n",
    "patience_counter = 0\n",
    "save_dir = \"/kaggle/working\"\n",
    "os.makedirs(save_dir, exist_ok=True)\n",
    "\n",
    "all_step_train_losses = []\n",
    "all_epoch_train_losses = []\n",
    "all_epoch_val_losses = []\n",
    "\n",
    "for epoch in range(CFG.epochs):\n",
    "    print(f\"\\n{'='*60}\")\n",
    "    print(f\"Epoch {epoch+1}/{CFG.epochs}\")\n",
    "    print(f\"{'='*60}\")\n",
    "    \n",
    "    model.train()\n",
    "    train_losses = []\n",
    "\n",
    "    train_pbar = tqdm(train_loader, desc=f\"Training Epoch {epoch+1}\")\n",
    "    for batch_idx, (data, target) in enumerate(train_pbar):\n",
    "        data, target = data.to(CFG.device), target.to(CFG.device)\n",
    "\n",
    "        optimizer.zero_grad()\n",
    "        output = model(data)\n",
    "        loss = criterion(output, target)\n",
    "        loss.backward()\n",
    "        optimizer.step()\n",
    "\n",
    "        step_loss = loss.item()\n",
    "        train_losses.append(step_loss)\n",
    "        all_step_train_losses.append(step_loss)\n",
    "        train_pbar.set_postfix({'Loss': f'{step_loss:.4f}'})\n",
    "    \n",
    "    avg_train_loss = np.mean(train_losses)\n",
    "    all_epoch_train_losses.append(avg_train_loss)\n",
    "\n",
    "    model.eval()\n",
    "    val_losses = []\n",
    "    correct = 0\n",
    "    total = 0\n",
    "\n",
    "    with torch.no_grad():\n",
    "        val_pbar = tqdm(val_loader, desc=f\"Validation Epoch {epoch+1}\")\n",
    "        for data, target in val_pbar:\n",
    "            data, target = data.to(CFG.device), target.to(CFG.device)\n",
    "            output = model(data)\n",
    "            loss = criterion(output, target)\n",
    "            val_losses.append(loss.item())\n",
    "\n",
    "            _, predicted = torch.max(output.data, 1)\n",
    "            total += target.size(0)\n",
    "            correct += (predicted == target).sum().item()\n",
    "\n",
    "            val_pbar.set_postfix({'Loss': f'{loss.item():.4f}'})\n",
    "\n",
    "    avg_val_loss = np.mean(val_losses)\n",
    "    all_epoch_val_losses.append(avg_val_loss)\n",
    "\n",
    "    val_accuracy = 100 * correct / total\n",
    "\n",
    "    print(f\"Train Loss: {avg_train_loss:.4f}\")\n",
    "    print(f\"Val Loss: {avg_val_loss:.4f}\")\n",
    "    print(f\"Val Accuracy: {val_accuracy:.2f}%\")\n",
    "\n",
    "    prev_lr = optimizer.param_groups[0]['lr']\n",
    "    scheduler.step(avg_val_loss)\n",
    "    new_lr = optimizer.param_groups[0]['lr']\n",
    "    if prev_lr != new_lr:\n",
    "        print(f\"LR decreased to {new_lr}\")\n",
    "\n",
    "    if avg_val_loss < best_val_loss:\n",
    "        best_val_loss = avg_val_loss\n",
    "        patience_counter = 0\n",
    "\n",
    "        model_filename = f\"epoch{epoch+1}.pth\"\n",
    "        model_path = os.path.join(save_dir, model_filename)\n",
    "        checkpoint = {\n",
    "            'epoch': epoch + 1,\n",
    "            'model_state_dict': model.state_dict(),\n",
    "            'optimizer_state_dict': optimizer.state_dict(),\n",
    "            'scheduler_state_dict': scheduler.state_dict() if scheduler is not None else None,\n",
    "            'loss': float(avg_train_loss),\n",
    "            'val_loss': float(avg_val_loss),\n",
    "            'val_accuracy': float(val_accuracy),\n",
    "        }\n",
    "\n",
    "        torch.save(checkpoint, model_path)\n",
    "        manage_checkpoints(save_dir, keep_last_n=5)\n",
    "    else:\n",
    "        patience_counter += 1\n",
    "        print(f\"Patience: {patience_counter}/{CFG.patience}\")\n",
    "\n",
    "        if patience_counter >= CFG.patience:\n",
    "            print(f\"Early stopping triggered after {epoch+1} epochs!\")\n",
    "            break\n",
    "\n",
    "np.save(os.path.join(save_dir, \"train_step_losses.npy\"), np.array(all_step_train_losses))\n",
    "np.save(os.path.join(save_dir, \"train_epoch_losses.npy\"), np.array(all_epoch_train_losses))\n",
    "np.save(os.path.join(save_dir, \"val_epoch_losses.npy\"), np.array(all_epoch_val_losses))"
   ]
  },
  {
   "cell_type": "markdown",
   "id": "8fbade9a",
   "metadata": {
    "papermill": {
     "duration": 0.29024,
     "end_time": "2025-08-02T03:32:53.967113",
     "exception": false,
     "start_time": "2025-08-02T03:32:53.676873",
     "status": "completed"
    },
    "tags": []
   },
   "source": [
    "# TESTING "
   ]
  },
  {
   "cell_type": "code",
   "execution_count": 13,
   "id": "da307949",
   "metadata": {
    "execution": {
     "iopub.execute_input": "2025-08-02T03:32:54.603211Z",
     "iopub.status.busy": "2025-08-02T03:32:54.602862Z",
     "iopub.status.idle": "2025-08-02T03:32:54.608530Z",
     "shell.execute_reply": "2025-08-02T03:32:54.607818Z"
    },
    "papermill": {
     "duration": 0.29724,
     "end_time": "2025-08-02T03:32:54.609627",
     "exception": false,
     "start_time": "2025-08-02T03:32:54.312387",
     "status": "completed"
    },
    "tags": []
   },
   "outputs": [],
   "source": [
    "import os\n",
    "import re\n",
    "\n",
    "folder = '/kaggle/working'\n",
    "files = [f for f in os.listdir(folder) if re.match(r'epoch\\d+\\.pth', f)]\n",
    "\n",
    "files.sort(key=lambda x: int(re.search(r'\\d+', x).group()))\n",
    "\n",
    "latest_file = files[-1] if files else None"
   ]
  },
  {
   "cell_type": "code",
   "execution_count": 14,
   "id": "d0019fd2",
   "metadata": {
    "execution": {
     "iopub.execute_input": "2025-08-02T03:32:55.188679Z",
     "iopub.status.busy": "2025-08-02T03:32:55.188377Z",
     "iopub.status.idle": "2025-08-02T03:32:56.065144Z",
     "shell.execute_reply": "2025-08-02T03:32:56.064097Z"
    },
    "papermill": {
     "duration": 1.166179,
     "end_time": "2025-08-02T03:32:56.066195",
     "exception": false,
     "start_time": "2025-08-02T03:32:54.900016",
     "status": "completed"
    },
    "tags": []
   },
   "outputs": [
    {
     "name": "stdout",
     "output_type": "stream",
     "text": [
      "Loaded model from epoch 5\n",
      "TESTING\n"
     ]
    },
    {
     "name": "stderr",
     "output_type": "stream",
     "text": [
      "Testing: 100%|██████████| 11/11 [00:00<00:00, 19.63it/s, Loss=0.0060]"
     ]
    },
    {
     "name": "stdout",
     "output_type": "stream",
     "text": [
      "\n",
      "Test Results:\n",
      "Test Loss: 0.0768\n",
      "Test Accuracy: 96.33%\n",
      "\n",
      "Per-class Accuracy:\n",
      "Class 0: No samples\n",
      "Class 1: 0.00% (0/1)\n",
      "Class 2: 100.00% (13/13)\n",
      "Class 3: 98.33% (59/60)\n",
      "Class 4: No samples\n",
      "Class 5: 83.33% (5/6)\n",
      "Class 6: 96.55% (28/29)\n",
      "Class 7: No samples\n"
     ]
    },
    {
     "name": "stderr",
     "output_type": "stream",
     "text": [
      "\n"
     ]
    }
   ],
   "source": [
    "best_model_path = os.path.join(save_dir, latest_file)\n",
    "if os.path.exists(best_model_path):\n",
    "    checkpoint = torch.load(best_model_path )\n",
    "    model.load_state_dict(checkpoint['model_state_dict'])\n",
    "    print(f\"Loaded model from epoch {checkpoint['epoch']}\")\n",
    "\n",
    "print(\"TESTING\")\n",
    "\n",
    "model.eval()\n",
    "test_losses = []\n",
    "correct = 0\n",
    "total = 0\n",
    "class_correct = list(0. for i in range(8))\n",
    "class_total = list(0. for i in range(8))\n",
    "\n",
    "with torch.no_grad():\n",
    "    test_pbar = tqdm(test_loader, desc=\"Testing\")\n",
    "    for data, target in test_pbar:\n",
    "        data, target = data.to(CFG.device), target.to(CFG.device)\n",
    "        output = model(data)\n",
    "        loss = criterion(output, target)\n",
    "        test_losses.append(loss.item())\n",
    "        \n",
    "        _, predicted = torch.max(output, 1)\n",
    "        total += target.size(0)\n",
    "        correct += (predicted == target).sum().item()\n",
    "        \n",
    "        c = (predicted == target)\n",
    "        \n",
    "        if c.dim() == 0:  \n",
    "            c = c.unsqueeze(0)\n",
    "            \n",
    "        for i in range(target.size(0)):\n",
    "            label = target[i].item() \n",
    "            class_correct[label] += c[i].item()\n",
    "            class_total[label] += 1\n",
    "        \n",
    "        test_pbar.set_postfix({'Loss': f'{loss.item():.4f}'})\n",
    "\n",
    "avg_test_loss = np.mean(test_losses)\n",
    "test_accuracy = 100 * correct / total\n",
    "\n",
    "print(f\"\\nTest Results:\")\n",
    "print(f\"Test Loss: {avg_test_loss:.4f}\")\n",
    "print(f\"Test Accuracy: {test_accuracy:.2f}%\")\n",
    "print(f\"\\nPer-class Accuracy:\")\n",
    "for i in range(8):\n",
    "    if class_total[i] > 0:\n",
    "        accuracy = 100 * class_correct[i] / class_total[i]\n",
    "        print(f\"Class {i}: {accuracy:.2f}% ({int(class_correct[i])}/{int(class_total[i])})\")\n",
    "    else:\n",
    "        print(f\"Class {i}: No samples\")"
   ]
  },
  {
   "cell_type": "markdown",
   "id": "02d200c8",
   "metadata": {
    "papermill": {
     "duration": 0.287221,
     "end_time": "2025-08-02T03:32:56.701099",
     "exception": false,
     "start_time": "2025-08-02T03:32:56.413878",
     "status": "completed"
    },
    "tags": []
   },
   "source": [
    "# FINAL CHECKPOINT"
   ]
  },
  {
   "cell_type": "code",
   "execution_count": 15,
   "id": "6a5f8e58",
   "metadata": {
    "execution": {
     "iopub.execute_input": "2025-08-02T03:32:57.339732Z",
     "iopub.status.busy": "2025-08-02T03:32:57.339411Z",
     "iopub.status.idle": "2025-08-02T03:32:57.470303Z",
     "shell.execute_reply": "2025-08-02T03:32:57.469716Z"
    },
    "papermill": {
     "duration": 0.4817,
     "end_time": "2025-08-02T03:32:57.471633",
     "exception": false,
     "start_time": "2025-08-02T03:32:56.989933",
     "status": "completed"
    },
    "tags": []
   },
   "outputs": [],
   "source": [
    "final_model_path = os.path.join(save_dir, \"finalcheckpoint.pth\")\n",
    "torch.save({\n",
    "    'model_state_dict': model.state_dict(),\n",
    "    'num_classes': 8,\n",
    "    'img_size': 256,\n",
    "    'test_accuracy': float(test_accuracy),\n",
    "    'test_loss': float(avg_test_loss),\n",
    "}, final_model_path)"
   ]
  },
  {
   "cell_type": "code",
   "execution_count": 16,
   "id": "9f797161",
   "metadata": {
    "execution": {
     "iopub.execute_input": "2025-08-02T03:32:58.046646Z",
     "iopub.status.busy": "2025-08-02T03:32:58.045948Z",
     "iopub.status.idle": "2025-08-02T03:32:58.563928Z",
     "shell.execute_reply": "2025-08-02T03:32:58.562891Z"
    },
    "papermill": {
     "duration": 0.804929,
     "end_time": "2025-08-02T03:32:58.565038",
     "exception": false,
     "start_time": "2025-08-02T03:32:57.760109",
     "status": "completed"
    },
    "tags": []
   },
   "outputs": [
    {
     "name": "stdout",
     "output_type": "stream",
     "text": [
      "TESTING\n"
     ]
    },
    {
     "name": "stderr",
     "output_type": "stream",
     "text": [
      "Testing: 100%|██████████| 11/11 [00:00<00:00, 27.61it/s, Loss=0.0060]"
     ]
    },
    {
     "name": "stdout",
     "output_type": "stream",
     "text": [
      "\n",
      "Test Results:\n",
      "Test Loss: 0.0768\n",
      "Test Accuracy: 96.33%\n",
      "\n",
      "Per-class Accuracy:\n",
      "Class 0: No samples\n",
      "Class 1: 0.00% (0/1)\n",
      "Class 2: 100.00% (13/13)\n",
      "Class 3: 98.33% (59/60)\n",
      "Class 4: No samples\n",
      "Class 5: 83.33% (5/6)\n",
      "Class 6: 96.55% (28/29)\n",
      "Class 7: No samples\n"
     ]
    },
    {
     "name": "stderr",
     "output_type": "stream",
     "text": [
      "\n"
     ]
    }
   ],
   "source": [
    "latest_file = \"finalcheckpoint.pth\"\n",
    "best_model_path = os.path.join(save_dir, latest_file)\n",
    "if os.path.exists(best_model_path):\n",
    "    checkpoint = torch.load(best_model_path )\n",
    "    model.load_state_dict(checkpoint['model_state_dict'])\n",
    "\n",
    "print(\"TESTING\")\n",
    "\n",
    "model.eval()\n",
    "test_losses = []\n",
    "correct = 0\n",
    "total = 0\n",
    "class_correct = list(0. for i in range(8))\n",
    "class_total = list(0. for i in range(8))\n",
    "\n",
    "with torch.no_grad():\n",
    "    test_pbar = tqdm(test_loader, desc=\"Testing\")\n",
    "    for data, target in test_pbar:\n",
    "        data, target = data.to(CFG.device), target.to(CFG.device)\n",
    "        output = model(data)\n",
    "        loss = criterion(output, target)\n",
    "        test_losses.append(loss.item())\n",
    "        \n",
    "        _, predicted = torch.max(output, 1)\n",
    "        total += target.size(0)\n",
    "        correct += (predicted == target).sum().item()\n",
    "        \n",
    "        c = (predicted == target)\n",
    "        \n",
    "        if c.dim() == 0:  \n",
    "            c = c.unsqueeze(0)\n",
    "            \n",
    "        for i in range(target.size(0)):\n",
    "            label = target[i].item() \n",
    "            class_correct[label] += c[i].item()\n",
    "            class_total[label] += 1\n",
    "        \n",
    "        test_pbar.set_postfix({'Loss': f'{loss.item():.4f}'})\n",
    "\n",
    "avg_test_loss = np.mean(test_losses)\n",
    "test_accuracy = 100 * correct / total\n",
    "\n",
    "print(f\"\\nTest Results:\")\n",
    "print(f\"Test Loss: {avg_test_loss:.4f}\")\n",
    "print(f\"Test Accuracy: {test_accuracy:.2f}%\")\n",
    "print(f\"\\nPer-class Accuracy:\")\n",
    "for i in range(8):\n",
    "    if class_total[i] > 0:\n",
    "        accuracy = 100 * class_correct[i] / class_total[i]\n",
    "        print(f\"Class {i}: {accuracy:.2f}% ({int(class_correct[i])}/{int(class_total[i])})\")\n",
    "    else:\n",
    "        print(f\"Class {i}: No samples\")"
   ]
  },
  {
   "cell_type": "code",
   "execution_count": null,
   "id": "00d6f506",
   "metadata": {
    "papermill": {
     "duration": 0.340123,
     "end_time": "2025-08-02T03:32:59.194966",
     "exception": false,
     "start_time": "2025-08-02T03:32:58.854843",
     "status": "completed"
    },
    "tags": []
   },
   "outputs": [],
   "source": []
  }
 ],
 "metadata": {
  "kaggle": {
   "accelerator": "gpu",
   "dataSources": [
    {
     "datasetId": 7866202,
     "sourceId": 12647806,
     "sourceType": "datasetVersion"
    },
    {
     "sourceId": 253278745,
     "sourceType": "kernelVersion"
    }
   ],
   "dockerImageVersionId": 31090,
   "isGpuEnabled": true,
   "isInternetEnabled": true,
   "language": "python",
   "sourceType": "notebook"
  },
  "kernelspec": {
   "display_name": "Python 3",
   "language": "python",
   "name": "python3"
  },
  "language_info": {
   "codemirror_mode": {
    "name": "ipython",
    "version": 3
   },
   "file_extension": ".py",
   "mimetype": "text/x-python",
   "name": "python",
   "nbconvert_exporter": "python",
   "pygments_lexer": "ipython3",
   "version": "3.11.13"
  },
  "papermill": {
   "default_parameters": {},
   "duration": 486.501619,
   "end_time": "2025-08-02T03:33:02.192868",
   "environment_variables": {},
   "exception": null,
   "input_path": "__notebook__.ipynb",
   "output_path": "__notebook__.ipynb",
   "parameters": {},
   "start_time": "2025-08-02T03:24:55.691249",
   "version": "2.6.0"
  },
  "widgets": {
   "application/vnd.jupyter.widget-state+json": {
    "state": {
     "081066a8cd424e4fa930fd81d6907727": {
      "model_module": "@jupyter-widgets/base",
      "model_module_version": "2.0.0",
      "model_name": "LayoutModel",
      "state": {
       "_model_module": "@jupyter-widgets/base",
       "_model_module_version": "2.0.0",
       "_model_name": "LayoutModel",
       "_view_count": null,
       "_view_module": "@jupyter-widgets/base",
       "_view_module_version": "2.0.0",
       "_view_name": "LayoutView",
       "align_content": null,
       "align_items": null,
       "align_self": null,
       "border_bottom": null,
       "border_left": null,
       "border_right": null,
       "border_top": null,
       "bottom": null,
       "display": null,
       "flex": null,
       "flex_flow": null,
       "grid_area": null,
       "grid_auto_columns": null,
       "grid_auto_flow": null,
       "grid_auto_rows": null,
       "grid_column": null,
       "grid_gap": null,
       "grid_row": null,
       "grid_template_areas": null,
       "grid_template_columns": null,
       "grid_template_rows": null,
       "height": null,
       "justify_content": null,
       "justify_items": null,
       "left": null,
       "margin": null,
       "max_height": null,
       "max_width": null,
       "min_height": null,
       "min_width": null,
       "object_fit": null,
       "object_position": null,
       "order": null,
       "overflow": null,
       "padding": null,
       "right": null,
       "top": null,
       "visibility": null,
       "width": null
      }
     },
     "292133eb26164656a64a7c0cacd53ca2": {
      "model_module": "@jupyter-widgets/controls",
      "model_module_version": "2.0.0",
      "model_name": "HTMLStyleModel",
      "state": {
       "_model_module": "@jupyter-widgets/controls",
       "_model_module_version": "2.0.0",
       "_model_name": "HTMLStyleModel",
       "_view_count": null,
       "_view_module": "@jupyter-widgets/base",
       "_view_module_version": "2.0.0",
       "_view_name": "StyleView",
       "background": null,
       "description_width": "",
       "font_size": null,
       "text_color": null
      }
     },
     "42d9dd26fd1d40be827dda7445ee537e": {
      "model_module": "@jupyter-widgets/controls",
      "model_module_version": "2.0.0",
      "model_name": "HTMLStyleModel",
      "state": {
       "_model_module": "@jupyter-widgets/controls",
       "_model_module_version": "2.0.0",
       "_model_name": "HTMLStyleModel",
       "_view_count": null,
       "_view_module": "@jupyter-widgets/base",
       "_view_module_version": "2.0.0",
       "_view_name": "StyleView",
       "background": null,
       "description_width": "",
       "font_size": null,
       "text_color": null
      }
     },
     "754fa5d64a994dc289c42a6ce1e14a9b": {
      "model_module": "@jupyter-widgets/controls",
      "model_module_version": "2.0.0",
      "model_name": "FloatProgressModel",
      "state": {
       "_dom_classes": [],
       "_model_module": "@jupyter-widgets/controls",
       "_model_module_version": "2.0.0",
       "_model_name": "FloatProgressModel",
       "_view_count": null,
       "_view_module": "@jupyter-widgets/controls",
       "_view_module_version": "2.0.0",
       "_view_name": "ProgressView",
       "bar_style": "success",
       "description": "",
       "description_allow_html": false,
       "layout": "IPY_MODEL_8bc0bec8a47049e79789abebc160b11d",
       "max": 88216496.0,
       "min": 0.0,
       "orientation": "horizontal",
       "style": "IPY_MODEL_784e5e74bf5f4975bdc765d2f8147f1c",
       "tabbable": null,
       "tooltip": null,
       "value": 88216496.0
      }
     },
     "784e5e74bf5f4975bdc765d2f8147f1c": {
      "model_module": "@jupyter-widgets/controls",
      "model_module_version": "2.0.0",
      "model_name": "ProgressStyleModel",
      "state": {
       "_model_module": "@jupyter-widgets/controls",
       "_model_module_version": "2.0.0",
       "_model_name": "ProgressStyleModel",
       "_view_count": null,
       "_view_module": "@jupyter-widgets/base",
       "_view_module_version": "2.0.0",
       "_view_name": "StyleView",
       "bar_color": null,
       "description_width": ""
      }
     },
     "8bc0bec8a47049e79789abebc160b11d": {
      "model_module": "@jupyter-widgets/base",
      "model_module_version": "2.0.0",
      "model_name": "LayoutModel",
      "state": {
       "_model_module": "@jupyter-widgets/base",
       "_model_module_version": "2.0.0",
       "_model_name": "LayoutModel",
       "_view_count": null,
       "_view_module": "@jupyter-widgets/base",
       "_view_module_version": "2.0.0",
       "_view_name": "LayoutView",
       "align_content": null,
       "align_items": null,
       "align_self": null,
       "border_bottom": null,
       "border_left": null,
       "border_right": null,
       "border_top": null,
       "bottom": null,
       "display": null,
       "flex": null,
       "flex_flow": null,
       "grid_area": null,
       "grid_auto_columns": null,
       "grid_auto_flow": null,
       "grid_auto_rows": null,
       "grid_column": null,
       "grid_gap": null,
       "grid_row": null,
       "grid_template_areas": null,
       "grid_template_columns": null,
       "grid_template_rows": null,
       "height": null,
       "justify_content": null,
       "justify_items": null,
       "left": null,
       "margin": null,
       "max_height": null,
       "max_width": null,
       "min_height": null,
       "min_width": null,
       "object_fit": null,
       "object_position": null,
       "order": null,
       "overflow": null,
       "padding": null,
       "right": null,
       "top": null,
       "visibility": null,
       "width": null
      }
     },
     "8c58482930444477a80cc070a8df462d": {
      "model_module": "@jupyter-widgets/controls",
      "model_module_version": "2.0.0",
      "model_name": "HBoxModel",
      "state": {
       "_dom_classes": [],
       "_model_module": "@jupyter-widgets/controls",
       "_model_module_version": "2.0.0",
       "_model_name": "HBoxModel",
       "_view_count": null,
       "_view_module": "@jupyter-widgets/controls",
       "_view_module_version": "2.0.0",
       "_view_name": "HBoxView",
       "box_style": "",
       "children": [
        "IPY_MODEL_fd9d161f257847e189b26ad7044e5906",
        "IPY_MODEL_754fa5d64a994dc289c42a6ce1e14a9b",
        "IPY_MODEL_f883a3d4f4f14d63a60c4e1c8e9dbe2c"
       ],
       "layout": "IPY_MODEL_a0fc5647e5754f84ac2441f4e7d0963f",
       "tabbable": null,
       "tooltip": null
      }
     },
     "a0fc5647e5754f84ac2441f4e7d0963f": {
      "model_module": "@jupyter-widgets/base",
      "model_module_version": "2.0.0",
      "model_name": "LayoutModel",
      "state": {
       "_model_module": "@jupyter-widgets/base",
       "_model_module_version": "2.0.0",
       "_model_name": "LayoutModel",
       "_view_count": null,
       "_view_module": "@jupyter-widgets/base",
       "_view_module_version": "2.0.0",
       "_view_name": "LayoutView",
       "align_content": null,
       "align_items": null,
       "align_self": null,
       "border_bottom": null,
       "border_left": null,
       "border_right": null,
       "border_top": null,
       "bottom": null,
       "display": null,
       "flex": null,
       "flex_flow": null,
       "grid_area": null,
       "grid_auto_columns": null,
       "grid_auto_flow": null,
       "grid_auto_rows": null,
       "grid_column": null,
       "grid_gap": null,
       "grid_row": null,
       "grid_template_areas": null,
       "grid_template_columns": null,
       "grid_template_rows": null,
       "height": null,
       "justify_content": null,
       "justify_items": null,
       "left": null,
       "margin": null,
       "max_height": null,
       "max_width": null,
       "min_height": null,
       "min_width": null,
       "object_fit": null,
       "object_position": null,
       "order": null,
       "overflow": null,
       "padding": null,
       "right": null,
       "top": null,
       "visibility": null,
       "width": null
      }
     },
     "ba132482f947462b9e0e484f938bfbf5": {
      "model_module": "@jupyter-widgets/base",
      "model_module_version": "2.0.0",
      "model_name": "LayoutModel",
      "state": {
       "_model_module": "@jupyter-widgets/base",
       "_model_module_version": "2.0.0",
       "_model_name": "LayoutModel",
       "_view_count": null,
       "_view_module": "@jupyter-widgets/base",
       "_view_module_version": "2.0.0",
       "_view_name": "LayoutView",
       "align_content": null,
       "align_items": null,
       "align_self": null,
       "border_bottom": null,
       "border_left": null,
       "border_right": null,
       "border_top": null,
       "bottom": null,
       "display": null,
       "flex": null,
       "flex_flow": null,
       "grid_area": null,
       "grid_auto_columns": null,
       "grid_auto_flow": null,
       "grid_auto_rows": null,
       "grid_column": null,
       "grid_gap": null,
       "grid_row": null,
       "grid_template_areas": null,
       "grid_template_columns": null,
       "grid_template_rows": null,
       "height": null,
       "justify_content": null,
       "justify_items": null,
       "left": null,
       "margin": null,
       "max_height": null,
       "max_width": null,
       "min_height": null,
       "min_width": null,
       "object_fit": null,
       "object_position": null,
       "order": null,
       "overflow": null,
       "padding": null,
       "right": null,
       "top": null,
       "visibility": null,
       "width": null
      }
     },
     "f883a3d4f4f14d63a60c4e1c8e9dbe2c": {
      "model_module": "@jupyter-widgets/controls",
      "model_module_version": "2.0.0",
      "model_name": "HTMLModel",
      "state": {
       "_dom_classes": [],
       "_model_module": "@jupyter-widgets/controls",
       "_model_module_version": "2.0.0",
       "_model_name": "HTMLModel",
       "_view_count": null,
       "_view_module": "@jupyter-widgets/controls",
       "_view_module_version": "2.0.0",
       "_view_name": "HTMLView",
       "description": "",
       "description_allow_html": false,
       "layout": "IPY_MODEL_081066a8cd424e4fa930fd81d6907727",
       "placeholder": "​",
       "style": "IPY_MODEL_42d9dd26fd1d40be827dda7445ee537e",
       "tabbable": null,
       "tooltip": null,
       "value": " 88.2M/88.2M [00:00&lt;00:00, 263MB/s]"
      }
     },
     "fd9d161f257847e189b26ad7044e5906": {
      "model_module": "@jupyter-widgets/controls",
      "model_module_version": "2.0.0",
      "model_name": "HTMLModel",
      "state": {
       "_dom_classes": [],
       "_model_module": "@jupyter-widgets/controls",
       "_model_module_version": "2.0.0",
       "_model_name": "HTMLModel",
       "_view_count": null,
       "_view_module": "@jupyter-widgets/controls",
       "_view_module_version": "2.0.0",
       "_view_name": "HTMLView",
       "description": "",
       "description_allow_html": false,
       "layout": "IPY_MODEL_ba132482f947462b9e0e484f938bfbf5",
       "placeholder": "​",
       "style": "IPY_MODEL_292133eb26164656a64a7c0cacd53ca2",
       "tabbable": null,
       "tooltip": null,
       "value": "model.safetensors: 100%"
      }
     }
    },
    "version_major": 2,
    "version_minor": 0
   }
  }
 },
 "nbformat": 4,
 "nbformat_minor": 5
}
